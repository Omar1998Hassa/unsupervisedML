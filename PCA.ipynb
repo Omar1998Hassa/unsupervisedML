{
 "cells": [
  {
   "cell_type": "code",
   "execution_count": 1,
   "metadata": {},
   "outputs": [],
   "source": [
    "import pandas as pd\n",
    "import numpy as np\n",
    "import matplotlib.pyplot as plt"
   ]
  },
  {
   "cell_type": "code",
   "execution_count": 2,
   "metadata": {},
   "outputs": [],
   "source": [
    "df = pd.read_csv('CC GENERAL.csv')\n",
    "df.drop('CUST_ID', axis=1, inplace=True)\n",
    "df['MINIMUM_PAYMENTS'] = df['MINIMUM_PAYMENTS'].fillna(df['MINIMUM_PAYMENTS'].mean())\n",
    "df = df.dropna(axis = 0, subset = ['CREDIT_LIMIT'])"
   ]
  },
  {
   "cell_type": "code",
   "execution_count": 8,
   "metadata": {},
   "outputs": [],
   "source": [
    "class PCA ():\n",
    "\n",
    "    def __init__(self,n_components = 0.95):\n",
    "        self.n_components = n_components\n",
    "        if self.n_components > 1:\n",
    "            self.type = 'var'\n",
    "        else:\n",
    "            self.type = 'ratio'\n",
    "\n",
    "    def fit(self,X):\n",
    "\n",
    "        self.mean = np.mean(X,axis=0)\n",
    "        self.std = np.std(X,axis=0)\n",
    "        # fill\n",
    "        normMat =(X- self.mean)/self.std\n",
    "        covMat = np.cov(normMat.transpose())\n",
    "        #print(X.shape)\n",
    "        #print(covMat.shape)\n",
    "        eig_value,eig_vector = np.linalg.eig(covMat)\n",
    "#         self.fullComponents = eig_value.reshape((1,-1)),eig_vector\n",
    "        #print(eig_value.astype(int))\n",
    "#         print(eig_vector.astype(int))\n",
    "        if self.n_components>=1:\n",
    "            X_new = normMat@eig_vector[:,:int(n_components)]\n",
    "        else: \n",
    "            \n",
    "            \n",
    "            sum_eig = np.sum(eig_value)\n",
    "            #print(sum_eig)\n",
    "            explained_var = eig_value/ sum_eig\n",
    "            #print(explained_var)\n",
    "            self.cumulative_sum = np.cumsum(explained_var)\n",
    "    \n",
    "            #print(\"*****\",self.cumulative_sum.shape)\n",
    "            numOfComp = np.argmax(self.cumulative_sum >= self.n_components)\n",
    "            \n",
    "            self.numOfComp = numOfComp\n",
    "            self.components = eig_vector[:,:self.numOfComp] \n",
    "            X_new = normMat@self.components      \n",
    "            \n",
    "        #print(self.numOfComp)\n",
    "        return X_new\n",
    "\n",
    "    def transform(self,Z):\n",
    "        # fill\n",
    "        normMat =(Z- self.mean)/self.std\n",
    "        Z_new = normMat@self.components\n",
    "        #print(self.numOfComp) \n",
    "        return Z_new\n",
    "\n",
    "    #optional \n",
    "    def plot_explained_variance(self):\n",
    "        plt.plot(self.cumulative_sum)"
   ]
  },
  {
   "cell_type": "code",
   "execution_count": 9,
   "metadata": {},
   "outputs": [],
   "source": [
    "pca_section = PCA(n_components=0.95)"
   ]
  },
  {
   "cell_type": "code",
   "execution_count": 10,
   "metadata": {},
   "outputs": [],
   "source": [
    "X_transofmed = pca_section.fit(df.values)"
   ]
  },
  {
   "cell_type": "code",
   "execution_count": 11,
   "metadata": {},
   "outputs": [
    {
     "data": {
      "image/png": "[encoded data removed]",
      "text/plain": [
       "<Figure size 432x288 with 1 Axes>"
      ]
     },
     "metadata": {
      "needs_background": "light"
     },
     "output_type": "display_data"
    }
   ],
   "source": [
    "pca_section.plot_explained_variance()"
   ]
  },
  {
   "cell_type": "code",
   "execution_count": 12,
   "metadata": {},
   "outputs": [
    {
     "name": "stdout",
     "output_type": "stream",
     "text": [
      "(17, 11)\n",
      "expected shape: (17,11)\n"
     ]
    }
   ],
   "source": [
    "print(pca_section.components.shape)\n",
    "print(\"expected shape: (17,11)\")"
   ]
  },
  {
   "cell_type": "code",
   "execution_count": 13,
   "metadata": {},
   "outputs": [
    {
     "data": {
      "text/plain": [
       "(8949, 11)"
      ]
     },
     "execution_count": 13,
     "metadata": {},
     "output_type": "execute_result"
    }
   ],
   "source": [
    "pca_section.transform(df.values).shape"
   ]
  },
  {
   "cell_type": "code",
   "execution_count": null,
   "metadata": {},
   "outputs": [],
   "source": []
  }
 ],
 "metadata": {
  "kernelspec": {
   "display_name": "Python 3",
   "language": "python",
   "name": "python3"
  },
  "language_info": {
   "codemirror_mode": {
    "name": "ipython",
    "version": 3
   },
   "file_extension": ".py",
   "mimetype": "text/x-python",
   "name": "python",
   "nbconvert_exporter": "python",
   "pygments_lexer": "ipython3",
   "version": "3.8.5"
  }
 },
 "nbformat": 4,
 "nbformat_minor": 2
}
